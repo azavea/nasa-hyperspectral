{
 "cells": [
  {
   "cell_type": "code",
   "execution_count": null,
   "id": "90f9da0a",
   "metadata": {},
   "outputs": [],
   "source": [
    "import numpy as np\n",
    "import matplotlib.pyplot as plt\n",
    "import scipy.signal\n",
    "import torch as torch\n",
    "import torch.nn.functional as F\n",
    "import rasterio as rio\n",
    "import rasterio.windows\n",
    "\n",
    "import copy\n",
    "\n",
    "from tqdm.notebook import tqdm\n",
    "\n",
    "from hyperspectral.math import zca_whitening_matrix\n",
    "from hyperspectral.band_selection import *"
   ]
  },
  {
   "cell_type": "markdown",
   "id": "046b662c",
   "metadata": {},
   "source": [
    "# Load Spectra and Perform Inference #"
   ]
  },
  {
   "cell_type": "code",
   "execution_count": null,
   "id": "b067d999",
   "metadata": {},
   "outputs": [],
   "source": [
    "dictionary = np.load('data2/AVIRIS_oil_ems.npz')\n",
    "ems = dictionary.get('ems')\n",
    "[sea_water, oil1, oil2] = ems\n",
    "\n",
    "sea_water /= np.linalg.norm(sea_water, ord=2)\n",
    "sea_water -= sea_water.mean()\n",
    "\n",
    "oil1 /= np.linalg.norm(oil1, ord=2)\n",
    "oil1 -= oil1.mean()\n",
    "\n",
    "oil2 /= np.linalg.norm(oil2, ord=2)\n",
    "oil2 -= oil2.mean()"
   ]
  },
  {
   "cell_type": "code",
   "execution_count": null,
   "id": "6f35cade",
   "metadata": {},
   "outputs": [],
   "source": [
    "plt.plot(sea_water)"
   ]
  },
  {
   "cell_type": "code",
   "execution_count": null,
   "id": "b5190330",
   "metadata": {},
   "outputs": [],
   "source": [
    "plt.plot(oil1)"
   ]
  },
  {
   "cell_type": "code",
   "execution_count": null,
   "id": "870b50cc",
   "metadata": {},
   "outputs": [],
   "source": [
    "plt.plot(oil2)"
   ]
  },
  {
   "cell_type": "code",
   "execution_count": null,
   "id": "89397e96",
   "metadata": {},
   "outputs": [],
   "source": [
    "def infer1(in_filename, out_filename, spec):\n",
    "    with rio.open(in_filename, 'r') as in_ds:\n",
    "        profile = copy.deepcopy(in_ds.profile)\n",
    "        profile.update(count=1, driver='GTiff', bigtiff='yes', compress='deflate', predictor='2', tiled='yes', dtype=np.float32, sparse_ok='yes')\n",
    "        with rio.open(out_filename, 'w', **profile) as out_ds:\n",
    "            for col in tqdm(range(0, in_ds.width, 512), position=0):\n",
    "                width = min(col+512, in_ds.width) - col\n",
    "                for row in tqdm(range(0, in_ds.height, 512), position=1, leave=False):\n",
    "                    height = min(row+512, in_ds.height) - row\n",
    "                    window = rasterio.windows.Window(col, row, width, height)\n",
    "                    data = in_ds.read(1, window=window)\n",
    "                    if np.abs(data).sum() == 0:\n",
    "                        continue\n",
    "                    data = np.transpose(in_ds.read(window=window).astype(np.float32), (1,2,0))\n",
    "                    norm = np.linalg.norm(data, ord=2, axis=2)[..., None].astype(np.float32)\n",
    "                    data /= norm\n",
    "                    data -= np.mean(data, axis=2)[...,None]\n",
    "                    data = np.dot(data, spec)\n",
    "                    data[np.isnan(data)] = 0\n",
    "                    data = data.reshape(1, width, height).astype(np.float32)\n",
    "                    out_ds.write(data, window=window)"
   ]
  },
  {
   "cell_type": "code",
   "execution_count": null,
   "id": "c360e55c",
   "metadata": {},
   "outputs": [],
   "source": [
    "in_filename = 'data2/f100517t01p00r14rdn_b/f100517t01p00r14rdn_b_sc01_ort_img.tif'\n",
    "out_filename = 'data2/results/f100517t01p00r14rdn_b_sc01_ort_img_xxx'"
   ]
  },
  {
   "cell_type": "code",
   "execution_count": null,
   "id": "bf3a2d41",
   "metadata": {},
   "outputs": [],
   "source": [
    "for (i,j) in [(sea_water, '_sea_water.tif'), (oil1, '_oil1.tif'), (oil2, '_oil2.tif')]:\n",
    "    infer1(in_filename, out_filename + j, i)"
   ]
  },
  {
   "cell_type": "markdown",
   "id": "4616ed57",
   "metadata": {},
   "source": [
    "# Save Samples #"
   ]
  },
  {
   "cell_type": "code",
   "execution_count": null,
   "id": "1bd1f714",
   "metadata": {},
   "outputs": [],
   "source": [
    "sea_water_yes = []\n",
    "sea_water_no = []\n",
    "\n",
    "oil1_yes = []\n",
    "oil1_no = []\n",
    "\n",
    "oil2_yes = []\n",
    "oil2_no = []\n",
    "\n",
    "with rio.open(in_filename, 'r') as in_ds, \\\n",
    "    rio.open(out_filename + '_sea_water.tif', 'r') as sea_ds, \\\n",
    "    rio.open(out_filename + '_oil1.tif', 'r') as oil1_ds, \\\n",
    "    rio.open(out_filename + '_oil2.tif', 'r') as oil2_ds:\n",
    "\n",
    "    width, height = in_ds.width, in_ds.height\n",
    "\n",
    "    for col in tqdm(range(2048, width, 512), position=0):\n",
    "        for row in tqdm(range(2048, height, 512), position=1, leave=False):\n",
    "            window = rasterio.windows.Window(col, row, 512, 512)\n",
    "            data0 = in_ds.read(1, window=window).reshape(-1,1)\n",
    "            if np.abs(data0).sum() == 0:\n",
    "                continue\n",
    "\n",
    "            data1 = np.transpose(in_ds.read(window=window).astype(np.float32), (1,2,0)).reshape(-1,224)\n",
    "            data_sea = np.transpose(sea_ds.read(window=window).astype(np.float32), (1,2,0)).reshape(-1,1)\n",
    "            data_oil1 = np.transpose(oil1_ds.read(window=window).astype(np.float32), (1,2,0)).reshape(-1,1)\n",
    "            data_oil2 = np.transpose(oil2_ds.read(window=window).astype(np.float32), (1,2,0)).reshape(-1,1)\n",
    "\n",
    "            sea_water_yes.append(data1[np.squeeze(data_sea > 0.80)])\n",
    "            sea_water_no.append(data1[np.squeeze((data_sea < 0.75) * (data0 != 0))])\n",
    "\n",
    "            oil1_yes.append(data1[np.squeeze(data_oil1 > 0.55)])\n",
    "            oil1_no.append(data1[np.squeeze((data_oil1 < 0.50) * (data0 != 0))])\n",
    "\n",
    "            oil2_yes.append(data1[np.squeeze(data_oil2 > 0.55)])\n",
    "            oil2_no.append(data1[np.squeeze((data_oil2 < 0.48) * (data0 != 0))])"
   ]
  },
  {
   "cell_type": "code",
   "execution_count": null,
   "id": "b9893353",
   "metadata": {},
   "outputs": [],
   "source": [
    "sea_water_yes = np.concatenate(sea_water_yes)\n",
    "sea_water_no = np.concatenate(sea_water_no)\n",
    "\n",
    "oil1_yes = np.concatenate(oil1_yes)\n",
    "oil1_no = np.concatenate(oil1_no)\n",
    "\n",
    "oil2_yes = np.concatenate(oil2_yes)\n",
    "oil2_no = np.concatenate(oil2_no)"
   ]
  },
  {
   "cell_type": "code",
   "execution_count": null,
   "id": "2a9b647f",
   "metadata": {},
   "outputs": [],
   "source": [
    "np.savez('data2/oil2.npz',\n",
    "         sea_water_yes=sea_water_yes, sea_water_no=sea_water_no,\n",
    "         oil1_yes=oil1_yes, oil1_no=oil1_no,\n",
    "         oil2_yes=oil2_yes, oil2_no=oil2_no,\n",
    "         sea_water_spectrum=sea_water, oil1_spectrum=oil1, oil2_spectrum=oil2)"
   ]
  },
  {
   "cell_type": "markdown",
   "id": "e7f19712",
   "metadata": {},
   "source": [
    "# Band Selection #"
   ]
  },
  {
   "cell_type": "code",
   "execution_count": null,
   "id": "6b1747f0",
   "metadata": {},
   "outputs": [],
   "source": [
    "def whiten(m, W, mean):\n",
    "    old_shape = m.shape\n",
    "    m = m.reshape(-1, old_shape[-1])\n",
    "    m = m - mean\n",
    "    m = np.matmul(m, W)\n",
    "    m = m.reshape(*old_shape)\n",
    "    return m"
   ]
  },
  {
   "cell_type": "code",
   "execution_count": null,
   "id": "e7e8009b",
   "metadata": {},
   "outputs": [],
   "source": [
    "def infer2(in_filename, out_filename, spec):\n",
    "    with rio.open(in_filename, 'r') as in_ds:\n",
    "        profile = copy.deepcopy(in_ds.profile)\n",
    "        profile.update(count=1, driver='GTiff', bigtiff='yes', compress='deflate', predictor='2', tiled='yes', dtype=np.float32, sparse_ok='yes')\n",
    "        with rio.open(out_filename, 'w', **profile) as out_ds:\n",
    "            for col in tqdm(range(0, in_ds.width, 512), position=0):\n",
    "                width = min(col+512, in_ds.width) - col\n",
    "                for row in tqdm(range(0, in_ds.height, 512), position=1, leave=False):\n",
    "                    height = min(row+512, in_ds.height) - row\n",
    "                    window = rasterio.windows.Window(col, row, width, height)\n",
    "                    data = in_ds.read(1, window=window)\n",
    "                    if np.abs(data).sum() == 0:\n",
    "                        continue\n",
    "                    data = np.transpose(in_ds.read(window=window).astype(np.float32), (1,2,0))\n",
    "                    norm = np.linalg.norm(data, ord=2, axis=2)[..., None].astype(np.float32)\n",
    "                    data /= norm\n",
    "                    data -= np.mean(data, axis=2)[...,None]\n",
    "                    data = whiten(data, W, 0)\n",
    "                    data = np.dot(data, spec)\n",
    "                    data[np.isnan(data)] = 0\n",
    "                    data = data.reshape(1, width, height).astype(np.float32)\n",
    "                    out_ds.write(data, window=window)"
   ]
  },
  {
   "cell_type": "code",
   "execution_count": null,
   "id": "5a85c33e",
   "metadata": {},
   "outputs": [],
   "source": [
    "dictionary = np.load('data2/oil2.npz')\n",
    "pos = dictionary.get('oil1_yes')\n",
    "neg = dictionary.get('oil1_no')\n",
    "spectrum = dictionary.get('oil1_spectrum')\n",
    "\n",
    "spectrum = scipy.signal.resample(spectrum, 224) - spectrum.mean()\n",
    "pos /= np.linalg.norm(pos, ord=2, axis=1).reshape(-1,1)\n",
    "neg /= np.linalg.norm(neg, ord=2, axis=1).reshape(-1,1)\n",
    "\n",
    "pos -= np.mean(pos, axis=1).reshape(-1,1)\n",
    "neg -= np.mean(neg, axis=1).reshape(-1,1)"
   ]
  },
  {
   "cell_type": "code",
   "execution_count": null,
   "id": "336499d8",
   "metadata": {},
   "outputs": [],
   "source": [
    "W, mean = zca_whitening_matrix(neg)"
   ]
  },
  {
   "cell_type": "code",
   "execution_count": null,
   "id": "dcda706f",
   "metadata": {},
   "outputs": [],
   "source": [
    "device = torch.device(\"cuda\")\n",
    "# device = torch.device(\"cpu\")"
   ]
  },
  {
   "cell_type": "code",
   "execution_count": null,
   "id": "52be96a2",
   "metadata": {},
   "outputs": [],
   "source": [
    "indices = list(range(0, neg.shape[0], 128))"
   ]
  },
  {
   "cell_type": "code",
   "execution_count": null,
   "id": "3afc5bb6",
   "metadata": {},
   "outputs": [],
   "source": [
    "neg_subset = neg[indices]"
   ]
  },
  {
   "cell_type": "code",
   "execution_count": null,
   "id": "ee346115",
   "metadata": {},
   "outputs": [],
   "source": [
    "ratio = int(neg_subset.shape[0] / pos.shape[0])\n",
    "print(ratio)"
   ]
  },
  {
   "cell_type": "code",
   "execution_count": null,
   "id": "b3853299",
   "metadata": {},
   "outputs": [],
   "source": [
    "pos_repeated = np.repeat(pos, ratio, axis=0)"
   ]
  },
  {
   "cell_type": "code",
   "execution_count": null,
   "id": "8c43c239",
   "metadata": {},
   "outputs": [],
   "source": [
    "samples = np.concatenate([neg_subset, pos_repeated], axis=0)\n",
    "samples = torch.from_numpy(samples.astype(np.float)).unsqueeze(2).to(device)\n",
    "\n",
    "labels = np.concatenate([np.zeros((neg_subset.shape[0], 1)), np.ones((pos_repeated.shape[0], 1))])\n",
    "labels = torch.from_numpy(labels.astype(np.float)).unsqueeze(2).to(device)\n",
    "\n",
    "target = torch.from_numpy(spectrum.astype(np.float)).unsqueeze(0).unsqueeze(2).to(device)"
   ]
  },
  {
   "cell_type": "code",
   "execution_count": null,
   "id": "2dba582b",
   "metadata": {},
   "outputs": [],
   "source": [
    "model = MatchedFilter(W/5000, 0).to(device)"
   ]
  },
  {
   "cell_type": "code",
   "execution_count": null,
   "id": "28b088c4",
   "metadata": {},
   "outputs": [],
   "source": [
    "model = vanilla_train(model, samples, labels, target, device, 1000)"
   ]
  },
  {
   "cell_type": "code",
   "execution_count": null,
   "id": "ae049cfe",
   "metadata": {},
   "outputs": [],
   "source": [
    "opt_W = model.W.cpu().detach().numpy()\n",
    "opt_bias = model.bias.cpu().detach().numpy()"
   ]
  },
  {
   "cell_type": "code",
   "execution_count": null,
   "id": "d8790834",
   "metadata": {},
   "outputs": [],
   "source": [
    "W = opt_W.squeeze()"
   ]
  },
  {
   "cell_type": "code",
   "execution_count": null,
   "id": "c2a5a7cd",
   "metadata": {},
   "outputs": [],
   "source": [
    "opt_whitened_spectrum = whiten(spectrum, W, 0)"
   ]
  },
  {
   "cell_type": "markdown",
   "id": "ba681172",
   "metadata": {},
   "source": [
    "## Inference is Optional ##"
   ]
  },
  {
   "cell_type": "code",
   "execution_count": null,
   "id": "d24ada02",
   "metadata": {},
   "outputs": [],
   "source": [
    "infer2(in_filename, out_filename + '_opt_oil1.tif', opt_whitened_spectrum)"
   ]
  },
  {
   "cell_type": "markdown",
   "id": "f1800bf7",
   "metadata": {},
   "source": [
    "# Band Selection #"
   ]
  },
  {
   "cell_type": "code",
   "execution_count": null,
   "id": "abbad9d7",
   "metadata": {},
   "outputs": [],
   "source": [
    "start = neg_subset.shape[0]\n",
    "length = pos.shape[0]\n",
    "subset_of_samples = samples[list(range(start, start+length)),...]\n",
    "mean_of_samples = subset_of_samples.mean(axis=0).unsqueeze(axis=0)"
   ]
  },
  {
   "cell_type": "code",
   "execution_count": null,
   "id": "35125f20",
   "metadata": {},
   "outputs": [],
   "source": [
    "according_to_salience = argsort(model, mean_of_samples, target, [0])"
   ]
  },
  {
   "cell_type": "code",
   "execution_count": null,
   "id": "34e41979",
   "metadata": {},
   "outputs": [],
   "source": [
    "according_to_salience"
   ]
  },
  {
   "cell_type": "code",
   "execution_count": null,
   "id": "a97bde4a",
   "metadata": {},
   "outputs": [],
   "source": [
    "np.savez('data2/W2.npz', opt_W=opt_W, opt_bias=opt_bias, according_to_salience=according_to_salience)"
   ]
  },
  {
   "cell_type": "markdown",
   "id": "9406b651",
   "metadata": {},
   "source": [
    "# Test Selected Bands #"
   ]
  },
  {
   "cell_type": "code",
   "execution_count": null,
   "id": "1c9d4eb2",
   "metadata": {},
   "outputs": [],
   "source": [
    "def infer3(in_filename, out_filename, spec, W, bands):\n",
    "    with rio.open(in_filename, 'r') as in_ds:\n",
    "        profile = copy.deepcopy(in_ds.profile)\n",
    "        profile.update(count=1, driver='GTiff', bigtiff='yes', compress='deflate', predictor='2', tiled='yes', dtype=np.float32, sparse_ok='yes')\n",
    "        with rio.open(out_filename, 'w', **profile) as out_ds:\n",
    "            for col in tqdm(range(0, in_ds.width, 512), position=0):\n",
    "                width = min(col+512, in_ds.width) - col\n",
    "                for row in tqdm(range(0, in_ds.height, 512), position=1, leave=False):\n",
    "                    height = min(row+512, in_ds.height) - row\n",
    "                    window = rasterio.windows.Window(col, row, width, height)\n",
    "                    data = in_ds.read(1, window=window)\n",
    "                    if np.abs(data).sum() == 0:\n",
    "                        continue\n",
    "                    data = np.transpose(in_ds.read(bands, window=window).astype(np.float32), (1,2,0))\n",
    "                    norm = np.linalg.norm(data, ord=2, axis=2)[..., None].astype(np.float32)\n",
    "                    data /= norm\n",
    "                    data -= np.mean(data, axis=2)[...,None]\n",
    "                    data = whiten(data, W, 0)\n",
    "                    data = np.dot(data, spec)\n",
    "                    data[np.isnan(data)] = 0\n",
    "                    data = data.reshape(1, width, height).astype(np.float32)\n",
    "                    out_ds.write(data, window=window)"
   ]
  },
  {
   "cell_type": "code",
   "execution_count": null,
   "id": "cdaee1cb",
   "metadata": {},
   "outputs": [],
   "source": [
    "dictionary = np.load('data2/W2.npz')\n",
    "according_to_salience = dictionary.get('according_to_salience')"
   ]
  },
  {
   "cell_type": "code",
   "execution_count": null,
   "id": "21ad0c2e",
   "metadata": {},
   "outputs": [],
   "source": [
    "best_48 = according_to_salience[-48:].squeeze()\n",
    "pos48 = pos[:, best_48].squeeze()\n",
    "neg48 = neg[:, best_48].squeeze()\n",
    "spectrum48 = spectrum[best_48].reshape(1,-1)"
   ]
  },
  {
   "cell_type": "code",
   "execution_count": null,
   "id": "e0e96d7e",
   "metadata": {},
   "outputs": [],
   "source": [
    "W, mean = zca_whitening_matrix(neg48)"
   ]
  },
  {
   "cell_type": "code",
   "execution_count": null,
   "id": "e2a787c9",
   "metadata": {},
   "outputs": [],
   "source": [
    "whitened_spectrum48 = whiten(spectrum48, W, 0).reshape(-1,1)"
   ]
  },
  {
   "cell_type": "code",
   "execution_count": null,
   "id": "5ab8bb57",
   "metadata": {},
   "outputs": [],
   "source": [
    "infer3(in_filename, out_filename + '_opt48_oil1.tif', whitened_spectrum48, W, tuple(best_48+1))"
   ]
  },
  {
   "cell_type": "code",
   "execution_count": null,
   "id": "874109bb",
   "metadata": {},
   "outputs": [],
   "source": []
  }
 ],
 "metadata": {
  "kernelspec": {
   "display_name": "Python 3",
   "language": "python",
   "name": "python3"
  },
  "language_info": {
   "codemirror_mode": {
    "name": "ipython",
    "version": 3
   },
   "file_extension": ".py",
   "mimetype": "text/x-python",
   "name": "python",
   "nbconvert_exporter": "python",
   "pygments_lexer": "ipython3",
   "version": "3.6.10"
  }
 },
 "nbformat": 4,
 "nbformat_minor": 5
}
