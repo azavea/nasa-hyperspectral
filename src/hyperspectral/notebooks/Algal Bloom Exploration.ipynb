{
 "cells": [
  {
   "cell_type": "code",
   "execution_count": null,
   "id": "b5ed14f3",
   "metadata": {},
   "outputs": [],
   "source": [
    "import numpy as np\n",
    "import matplotlib.pyplot as plt\n",
    "import scipy.signal\n",
    "import torch as torch\n",
    "import torch.nn.functional as F\n",
    "import rasterio as rio\n",
    "import rasterio.windows\n",
    "\n",
    "import copy\n",
    "\n",
    "from tqdm.notebook import tqdm\n",
    "\n",
    "from hyperspectral.math import zca_whitening_matrix\n",
    "from hyperspectral.band_selection import *"
   ]
  },
  {
   "cell_type": "markdown",
   "id": "e5606baf",
   "metadata": {},
   "source": [
    "# Explore #"
   ]
  },
  {
   "cell_type": "markdown",
   "id": "d353ba21",
   "metadata": {},
   "source": [
    "## Clip Spectrum ##"
   ]
  },
  {
   "cell_type": "code",
   "execution_count": null,
   "id": "a19221f3",
   "metadata": {},
   "outputs": [],
   "source": [
    "filename = 'data2/spectra/0/splib07a_Red_Coated_Algea_Water_RCAW1_ASDFRa_AREF.txt'\n",
    "spectrum = []\n",
    "with open(filename, 'r') as f:\n",
    "    f.readline()\n",
    "    for line in f.readlines():\n",
    "        spectrum.append(float(line))\n",
    "spectrum = np.array(spectrum)\n",
    "spectrum = spectrum / np.linalg.norm(spectrum[0:993], ord=2) # only the first 993 bands are good\n",
    "spectrum[993:] = 0\n",
    "spectrum_normalized = scipy.signal.resample(spectrum, 224) - spectrum.mean()\n",
    "spectrum_normalized -= np.min(spectrum_normalized[:103])\n",
    "spectrum_normalized[103:] = 0"
   ]
  },
  {
   "cell_type": "code",
   "execution_count": null,
   "id": "109d9d77",
   "metadata": {},
   "outputs": [],
   "source": [
    "plt.plot(spectrum_normalized)"
   ]
  },
  {
   "cell_type": "code",
   "execution_count": null,
   "id": "881b0045",
   "metadata": {},
   "outputs": [],
   "source": [
    "spectrum.shape"
   ]
  },
  {
   "cell_type": "markdown",
   "id": "7d29e95e",
   "metadata": {},
   "source": [
    "## Perform Inference ##"
   ]
  },
  {
   "cell_type": "code",
   "execution_count": null,
   "id": "ed70ef4c",
   "metadata": {},
   "outputs": [],
   "source": [
    "tile_size = 64\n",
    "def infer1(in_filename, out_filename):\n",
    "    with rio.open(in_filename, 'r') as in_ds:\n",
    "        profile = copy.deepcopy(in_ds.profile)\n",
    "        profile.update(count=1, driver='GTiff', bigtiff='yes', compress='deflate', predictor='2', tiled='yes', dtype=np.float32, sparse_ok='yes')\n",
    "        with rio.open(out_filename, 'w', **profile) as out_ds:\n",
    "            for col in tqdm(range(0, in_ds.width, tile_size), position=0):\n",
    "                width = min(col+tile_size, in_ds.width) - col\n",
    "                for row in tqdm(range(0, in_ds.height, tile_size), position=1, leave=False):\n",
    "                    height = min(row+tile_size, in_ds.height) - row\n",
    "                    window = rasterio.windows.Window(col, row, width, height)\n",
    "                    data = in_ds.read(1, window=window)\n",
    "                    if np.abs(data).sum() == 0:\n",
    "                        continue\n",
    "                    data = np.transpose(in_ds.read(window=window).astype(np.float32), (1,2,0))\n",
    "                    norm = np.linalg.norm(data[:,:,103:], ord=2, axis=2)[..., None].astype(np.float32)\n",
    "                    data /= norm\n",
    "                    data -= np.mean(data, axis=2)[...,None]\n",
    "                    data = np.dot(data, spectrum_normalized)\n",
    "                    data[np.isnan(data)] = 0\n",
    "                    data = data.reshape(1, width, height).astype(np.float32)\n",
    "                    out_ds.write(data, window=window)"
   ]
  },
  {
   "cell_type": "code",
   "execution_count": null,
   "id": "8bafce37",
   "metadata": {},
   "outputs": [],
   "source": [
    "in_out = [\n",
    "    ('data2/LakeErie/f080723t01p00r06/f080723t01p00r06rdn_c_sc01.tif', 'data2/f080723t01p00r06rdn_c_sc01_result.tif'),\n",
    "    ('data2/LakeMichigan/f080709t01p00r13/f080709t01p00r13rdn_c_sc01.tif', 'data2/f080709t01p00r13rdn_c_sc01_result.tif')\n",
    "]"
   ]
  },
  {
   "cell_type": "code",
   "execution_count": null,
   "id": "2915d31d",
   "metadata": {},
   "outputs": [],
   "source": [
    "for (in_filename, out_filename) in in_out:\n",
    "    infer1(in_filename, out_filename)"
   ]
  },
  {
   "cell_type": "markdown",
   "id": "c5f28587",
   "metadata": {},
   "source": [
    "# Save Samples #"
   ]
  },
  {
   "cell_type": "code",
   "execution_count": null,
   "id": "feb52a56",
   "metadata": {},
   "outputs": [],
   "source": [
    "in_filename1 = 'data2/LakeMichigan/f080709t01p00r13/f080709t01p00r13rdn_c_sc01.tif'\n",
    "in_filename2 = 'data2/f080709t01p00r13rdn_c_sc01_result.tif'"
   ]
  },
  {
   "cell_type": "code",
   "execution_count": null,
   "id": "f7ff1b23",
   "metadata": {},
   "outputs": [],
   "source": [
    "tile_size = 64\n",
    "algea_yes = []\n",
    "algea_no = []\n",
    "with rio.open(in_filename1, 'r') as ds1, rio.open(in_filename2, 'r') as ds2:\n",
    "    width, height = ds1.width, ds1.height\n",
    "    for col in tqdm(range(0, width, tile_size), position=0):\n",
    "        for row in tqdm(range(0, height, tile_size), position=1, leave=False):\n",
    "            window = rasterio.windows.Window(col, row, tile_size, tile_size)\n",
    "            data0 = ds1.read(1, window=window).reshape(-1,1)\n",
    "            if np.abs(data0).sum() == 0:\n",
    "                continue\n",
    "            data1 = np.transpose(ds1.read(window=window).astype(np.float32), (1,2,0)).reshape(-1,224)\n",
    "            data2 = np.transpose(ds2.read(window=window).astype(np.float32), (1,2,0)).reshape(-1,1)\n",
    "            algea_yes.append(data1[np.squeeze(data2 > +1.8)])\n",
    "            algea_no.append(data1[np.squeeze((data2 < +1.0) * (data0 != 0))])"
   ]
  },
  {
   "cell_type": "code",
   "execution_count": null,
   "id": "71c58d16",
   "metadata": {},
   "outputs": [],
   "source": [
    "algea_yes = np.concatenate(algea_yes)\n",
    "algea_no = np.concatenate(algea_no)"
   ]
  },
  {
   "cell_type": "code",
   "execution_count": null,
   "id": "e9239963",
   "metadata": {},
   "outputs": [],
   "source": [
    "np.savez('data2/algea.npz', algea_yes=algea_yes, algea_no=algea_no, spectrum=spectrum)"
   ]
  },
  {
   "cell_type": "markdown",
   "id": "fcd56e3e",
   "metadata": {},
   "source": [
    "# Band Selection and Whitening #"
   ]
  },
  {
   "cell_type": "markdown",
   "id": "6393dc25",
   "metadata": {},
   "source": [
    "## Whitening ##"
   ]
  },
  {
   "cell_type": "code",
   "execution_count": null,
   "id": "51f302e3",
   "metadata": {},
   "outputs": [],
   "source": [
    "dictionary = np.load('data2/algea.npz')\n",
    "pos = dictionary.get('algea_yes')\n",
    "neg = dictionary.get('algea_no')\n",
    "spectrum = dictionary.get('spectrum')\n",
    "\n",
    "spectrum = scipy.signal.resample(spectrum, 224) - spectrum.mean()\n",
    "\n",
    "# Only the first 103 bands are usable\n",
    "spectrum = spectrum[:103]\n",
    "pos = pos[:,:103]\n",
    "neg = neg[:,:103]\n",
    "\n",
    "pos /= np.linalg.norm(pos, ord=2, axis=1).reshape(-1,1)\n",
    "neg /= np.linalg.norm(neg, ord=2, axis=1).reshape(-1,1)\n",
    "\n",
    "pos -= np.mean(pos, axis=1).reshape(-1,1)\n",
    "neg -= np.mean(neg, axis=1).reshape(-1,1)"
   ]
  },
  {
   "cell_type": "code",
   "execution_count": null,
   "id": "9cb1ceee",
   "metadata": {},
   "outputs": [],
   "source": [
    "W, mean = zca_whitening_matrix(neg)"
   ]
  },
  {
   "cell_type": "code",
   "execution_count": null,
   "id": "6713e45c",
   "metadata": {},
   "outputs": [],
   "source": [
    "def whiten(m, W, mean):\n",
    "    old_shape = m.shape\n",
    "    m = m.reshape(-1, old_shape[-1])\n",
    "    m = m - mean\n",
    "    m = np.matmul(m, W)\n",
    "    m = m.reshape(*old_shape)\n",
    "    return m"
   ]
  },
  {
   "cell_type": "code",
   "execution_count": null,
   "id": "7e3929ba",
   "metadata": {},
   "outputs": [],
   "source": [
    "whitened_pos = whiten(pos, W, 0)\n",
    "whitened_neg = whiten(neg, W, 0)\n",
    "whitened_spectrum = whiten(spectrum, W, 0)"
   ]
  },
  {
   "cell_type": "code",
   "execution_count": null,
   "id": "2624ac31",
   "metadata": {},
   "outputs": [],
   "source": [
    "np.dot(whitened_pos, whitened_spectrum).mean()"
   ]
  },
  {
   "cell_type": "code",
   "execution_count": null,
   "id": "00004531",
   "metadata": {},
   "outputs": [],
   "source": [
    "np.dot(whitened_neg, whitened_spectrum).mean()"
   ]
  },
  {
   "cell_type": "code",
   "execution_count": null,
   "id": "46f8b117",
   "metadata": {},
   "outputs": [],
   "source": [
    "channels = tuple(range(0+1,103+1))\n",
    "tile_size = 64\n",
    "def infer2(in_filename, out_filename):\n",
    "    with rio.open(in_filename, 'r') as in_ds:\n",
    "        profile = copy.deepcopy(in_ds.profile)\n",
    "        profile.update(count=1, driver='GTiff', bigtiff='yes', compress='deflate', predictor='2', tiled='yes', dtype=np.float32, sparse_ok='yes')\n",
    "        with rio.open(out_filename, 'w', **profile) as out_ds:\n",
    "            for col in tqdm(range(0, in_ds.width, tile_size), position=0):\n",
    "                width = min(col+tile_size, in_ds.width) - col\n",
    "                for row in tqdm(range(0, in_ds.height, tile_size), position=1, leave=False):\n",
    "                    height = min(row+tile_size, in_ds.height) - row\n",
    "                    window = rasterio.windows.Window(col, row, width, height)\n",
    "                    data = in_ds.read(1, window=window)\n",
    "                    if np.abs(data).sum() == 0:\n",
    "                        continue\n",
    "                    data = np.transpose(in_ds.read(channels, window=window).astype(np.float32), (1,2,0))\n",
    "                    norm = np.linalg.norm(data, ord=2, axis=2)[..., None].astype(np.float32)\n",
    "                    data /= norm\n",
    "                    data -= np.mean(data, axis=2)[...,None]\n",
    "                    data = whiten(data, W, 0)\n",
    "                    data = np.dot(data, whitened_spectrum)\n",
    "                    data[np.isnan(data)] = 0\n",
    "                    data = data.reshape(1, width, height).astype(np.float32)\n",
    "                    out_ds.write(data, window=window)"
   ]
  },
  {
   "cell_type": "code",
   "execution_count": null,
   "id": "1ef348d8",
   "metadata": {},
   "outputs": [],
   "source": [
    "out_filename = 'data2/f080709t01p00r13rdn_c_sc01_result_whitened.tif'\n",
    "infer2(in_filename1, out_filename)"
   ]
  },
  {
   "cell_type": "code",
   "execution_count": null,
   "id": "eb21925f",
   "metadata": {},
   "outputs": [],
   "source": []
  }
 ],
 "metadata": {
  "kernelspec": {
   "display_name": "Python 3",
   "language": "python",
   "name": "python3"
  },
  "language_info": {
   "codemirror_mode": {
    "name": "ipython",
    "version": 3
   },
   "file_extension": ".py",
   "mimetype": "text/x-python",
   "name": "python",
   "nbconvert_exporter": "python",
   "pygments_lexer": "ipython3",
   "version": "3.6.10"
  }
 },
 "nbformat": 4,
 "nbformat_minor": 5
}
