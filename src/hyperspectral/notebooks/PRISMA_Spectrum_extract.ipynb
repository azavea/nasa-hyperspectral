{
  "nbformat": 4,
  "nbformat_minor": 0,
  "metadata": {
    "colab": {
      "name": "Spectrum extract.ipynb",
      "provenance": []
    },
    "kernelspec": {
      "name": "python3",
      "display_name": "Python 3"
    },
    "language_info": {
      "name": "python"
    },
    "widgets": {
      "application/vnd.jupyter.widget-state+json": {
        "0079bb97fce04be8a8af6a768a9e3dd6": {
          "model_module": "@jupyter-widgets/controls",
          "model_name": "HBoxModel",
          "state": {
            "_view_name": "HBoxView",
            "_dom_classes": [],
            "_model_name": "HBoxModel",
            "_view_module": "@jupyter-widgets/controls",
            "_model_module_version": "1.5.0",
            "_view_count": null,
            "_view_module_version": "1.5.0",
            "box_style": "",
            "layout": "IPY_MODEL_e1091e15bdc5470b9786a4990972361f",
            "_model_module": "@jupyter-widgets/controls",
            "children": [
              "IPY_MODEL_1aefc905708441c8bfeacc722b691a80",
              "IPY_MODEL_c964c4fe2aac465bacde3576da00a2a0"
            ]
          }
        },
        "e1091e15bdc5470b9786a4990972361f": {
          "model_module": "@jupyter-widgets/base",
          "model_name": "LayoutModel",
          "state": {
            "_view_name": "LayoutView",
            "grid_template_rows": null,
            "right": null,
            "justify_content": null,
            "_view_module": "@jupyter-widgets/base",
            "overflow": null,
            "_model_module_version": "1.2.0",
            "_view_count": null,
            "flex_flow": null,
            "width": null,
            "min_width": null,
            "border": null,
            "align_items": null,
            "bottom": null,
            "_model_module": "@jupyter-widgets/base",
            "top": null,
            "grid_column": null,
            "overflow_y": null,
            "overflow_x": null,
            "grid_auto_flow": null,
            "grid_area": null,
            "grid_template_columns": null,
            "flex": null,
            "_model_name": "LayoutModel",
            "justify_items": null,
            "grid_row": null,
            "max_height": null,
            "align_content": null,
            "visibility": null,
            "align_self": null,
            "height": null,
            "min_height": null,
            "padding": null,
            "grid_auto_rows": null,
            "grid_gap": null,
            "max_width": null,
            "order": null,
            "_view_module_version": "1.2.0",
            "grid_template_areas": null,
            "object_position": null,
            "object_fit": null,
            "grid_auto_columns": null,
            "margin": null,
            "display": null,
            "left": null
          }
        },
        "1aefc905708441c8bfeacc722b691a80": {
          "model_module": "@jupyter-widgets/controls",
          "model_name": "FloatProgressModel",
          "state": {
            "_view_name": "ProgressView",
            "style": "IPY_MODEL_cd5b675527ae44c194fdc3025bd34e55",
            "_dom_classes": [],
            "description": "100%",
            "_model_name": "FloatProgressModel",
            "bar_style": "success",
            "max": 500,
            "_view_module": "@jupyter-widgets/controls",
            "_model_module_version": "1.5.0",
            "value": 500,
            "_view_count": null,
            "_view_module_version": "1.5.0",
            "orientation": "horizontal",
            "min": 0,
            "description_tooltip": null,
            "_model_module": "@jupyter-widgets/controls",
            "layout": "IPY_MODEL_03cbc1c1fc0c4fcf968ebcc57b2edd73"
          }
        },
        "c964c4fe2aac465bacde3576da00a2a0": {
          "model_module": "@jupyter-widgets/controls",
          "model_name": "HTMLModel",
          "state": {
            "_view_name": "HTMLView",
            "style": "IPY_MODEL_b05f58c9e17b4316978742e42320aab3",
            "_dom_classes": [],
            "description": "",
            "_model_name": "HTMLModel",
            "placeholder": "​",
            "_view_module": "@jupyter-widgets/controls",
            "_model_module_version": "1.5.0",
            "value": " 500/500 [02:13&lt;00:00,  3.75it/s]",
            "_view_count": null,
            "_view_module_version": "1.5.0",
            "description_tooltip": null,
            "_model_module": "@jupyter-widgets/controls",
            "layout": "IPY_MODEL_12ebeef3be7d4f92acb4477af8b096e0"
          }
        },
        "cd5b675527ae44c194fdc3025bd34e55": {
          "model_module": "@jupyter-widgets/controls",
          "model_name": "ProgressStyleModel",
          "state": {
            "_view_name": "StyleView",
            "_model_name": "ProgressStyleModel",
            "description_width": "initial",
            "_view_module": "@jupyter-widgets/base",
            "_model_module_version": "1.5.0",
            "_view_count": null,
            "_view_module_version": "1.2.0",
            "bar_color": null,
            "_model_module": "@jupyter-widgets/controls"
          }
        },
        "03cbc1c1fc0c4fcf968ebcc57b2edd73": {
          "model_module": "@jupyter-widgets/base",
          "model_name": "LayoutModel",
          "state": {
            "_view_name": "LayoutView",
            "grid_template_rows": null,
            "right": null,
            "justify_content": null,
            "_view_module": "@jupyter-widgets/base",
            "overflow": null,
            "_model_module_version": "1.2.0",
            "_view_count": null,
            "flex_flow": null,
            "width": null,
            "min_width": null,
            "border": null,
            "align_items": null,
            "bottom": null,
            "_model_module": "@jupyter-widgets/base",
            "top": null,
            "grid_column": null,
            "overflow_y": null,
            "overflow_x": null,
            "grid_auto_flow": null,
            "grid_area": null,
            "grid_template_columns": null,
            "flex": null,
            "_model_name": "LayoutModel",
            "justify_items": null,
            "grid_row": null,
            "max_height": null,
            "align_content": null,
            "visibility": null,
            "align_self": null,
            "height": null,
            "min_height": null,
            "padding": null,
            "grid_auto_rows": null,
            "grid_gap": null,
            "max_width": null,
            "order": null,
            "_view_module_version": "1.2.0",
            "grid_template_areas": null,
            "object_position": null,
            "object_fit": null,
            "grid_auto_columns": null,
            "margin": null,
            "display": null,
            "left": null
          }
        },
        "b05f58c9e17b4316978742e42320aab3": {
          "model_module": "@jupyter-widgets/controls",
          "model_name": "DescriptionStyleModel",
          "state": {
            "_view_name": "StyleView",
            "_model_name": "DescriptionStyleModel",
            "description_width": "",
            "_view_module": "@jupyter-widgets/base",
            "_model_module_version": "1.5.0",
            "_view_count": null,
            "_view_module_version": "1.2.0",
            "_model_module": "@jupyter-widgets/controls"
          }
        },
        "12ebeef3be7d4f92acb4477af8b096e0": {
          "model_module": "@jupyter-widgets/base",
          "model_name": "LayoutModel",
          "state": {
            "_view_name": "LayoutView",
            "grid_template_rows": null,
            "right": null,
            "justify_content": null,
            "_view_module": "@jupyter-widgets/base",
            "overflow": null,
            "_model_module_version": "1.2.0",
            "_view_count": null,
            "flex_flow": null,
            "width": null,
            "min_width": null,
            "border": null,
            "align_items": null,
            "bottom": null,
            "_model_module": "@jupyter-widgets/base",
            "top": null,
            "grid_column": null,
            "overflow_y": null,
            "overflow_x": null,
            "grid_auto_flow": null,
            "grid_area": null,
            "grid_template_columns": null,
            "flex": null,
            "_model_name": "LayoutModel",
            "justify_items": null,
            "grid_row": null,
            "max_height": null,
            "align_content": null,
            "visibility": null,
            "align_self": null,
            "height": null,
            "min_height": null,
            "padding": null,
            "grid_auto_rows": null,
            "grid_gap": null,
            "max_width": null,
            "order": null,
            "_view_module_version": "1.2.0",
            "grid_template_areas": null,
            "object_position": null,
            "object_fit": null,
            "grid_auto_columns": null,
            "margin": null,
            "display": null,
            "left": null
          }
        }
      }
    }
  },
  "cells": [
    {
      "cell_type": "code",
      "metadata": {
        "id": "FFO-c-p_lifv"
      },
      "source": [
        "!pip install --upgrade 'git+https://github.com/azavea/nasa-hyperspectral.git@feature/mif-decorrelation#egg=hyperspectral&subdirectory=src/hyperspectral'\n",
        "!pip install rasterio"
      ],
      "execution_count": null,
      "outputs": []
    },
    {
      "cell_type": "code",
      "metadata": {
        "colab": {
          "base_uri": "https://localhost:8080/"
        },
        "id": "qTM6TpHFltun",
        "outputId": "498cc807-be74-4623-8a77-3b1b4dc34f59"
      },
      "source": [
        "from google.colab import drive\n",
        "drive.mount(\"~/data\")"
      ],
      "execution_count": null,
      "outputs": [
        {
          "output_type": "stream",
          "text": [
            "Mounted at /root/data\n"
          ],
          "name": "stdout"
        }
      ]
    },
    {
      "cell_type": "code",
      "metadata": {
        "id": "-JBZfaLKSfRm"
      },
      "source": [
        "import math\n",
        "\n",
        "import matplotlib.pyplot as plt\n",
        "import numpy as np\n",
        "import pandas as pd\n",
        "import rasterio as rio\n",
        "import torch as torch\n",
        "import torch.nn as nn\n",
        "import torch.nn.functional as F\n",
        "from tqdm.autonotebook import tqdm\n",
        "\n",
        "from hyperspectral.spectra import SpectralLibrary, Spectrum"
      ],
      "execution_count": null,
      "outputs": []
    },
    {
      "cell_type": "code",
      "metadata": {
        "colab": {
          "base_uri": "https://localhost:8080/"
        },
        "id": "rBP4ZQj3i6y2",
        "outputId": "1f497608-e393-467f-8c67-2bd45cc9ed1e"
      },
      "source": [
        "loaded = np.load('/root/data/MyDrive/Hyperspectral/tpa_extract.npz')\n",
        "extract = loaded['extract']\n",
        "active = loaded['active']\n",
        "dirty = loaded['dirty']\n",
        "r,c,_ = extract.shape\n",
        "r,c"
      ],
      "execution_count": null,
      "outputs": [
        {
          "output_type": "execute_result",
          "data": {
            "text/plain": [
              "(89, 85)"
            ]
          },
          "metadata": {
            "tags": []
          },
          "execution_count": 6
        }
      ]
    },
    {
      "cell_type": "code",
      "metadata": {
        "id": "Mk_x1wokmkWC",
        "colab": {
          "base_uri": "https://localhost:8080/"
        },
        "outputId": "22453d68-83f2-40a6-a89b-c5c72aef29bb"
      },
      "source": [
        "samples = extract.reshape((r*c,-1))\n",
        "magnitudes = np.linalg.norm(samples, ord=2, axis=1)\n",
        "samples = samples / magnitudes[:, None]\n",
        "n_samples, p = samples.shape\n",
        "n_samples, p"
      ],
      "execution_count": null,
      "outputs": [
        {
          "output_type": "execute_result",
          "data": {
            "text/plain": [
              "(7565, 154)"
            ]
          },
          "metadata": {
            "tags": []
          },
          "execution_count": 17
        }
      ]
    },
    {
      "cell_type": "code",
      "metadata": {
        "id": "ZSDh8fz3mNny"
      },
      "source": [
        "def whitening_matrix(m):\n",
        "    old_shape = m.shape\n",
        "    m = m.reshape(-1, old_shape[-1])\n",
        "    mean = np.mean(m, axis=0)\n",
        "    cov = np.cov(m - mean, rowvar=False)\n",
        "    w, v = np.linalg.eig(cov)\n",
        "    W = np.matmul(np.matmul(v, np.diag(1 / np.sqrt(1e-6 + w))), v.T)\n",
        "    return W, mean"
      ],
      "execution_count": null,
      "outputs": []
    },
    {
      "cell_type": "code",
      "metadata": {
        "id": "eRuQBFQtmcS7"
      },
      "source": [
        "W, mean = whitening_matrix(samples)"
      ],
      "execution_count": null,
      "outputs": []
    },
    {
      "cell_type": "code",
      "metadata": {
        "id": "nJRo5kIJmfhr"
      },
      "source": [
        "centered_pixels = samples - mean"
      ],
      "execution_count": null,
      "outputs": []
    },
    {
      "cell_type": "code",
      "metadata": {
        "colab": {
          "base_uri": "https://localhost:8080/"
        },
        "id": "szEKVyeXobjQ",
        "outputId": "22540415-1a18-4289-f527-9788c7d0c203"
      },
      "source": [
        "# get the computation device\n",
        "def get_device():\n",
        "    if torch.cuda.is_available():\n",
        "        return 'cuda'\n",
        "    else:\n",
        "        return 'cpu'\n",
        "\n",
        "device = torch.device(get_device())\n",
        "device"
      ],
      "execution_count": null,
      "outputs": [
        {
          "output_type": "execute_result",
          "data": {
            "text/plain": [
              "device(type='cpu')"
            ]
          },
          "metadata": {
            "tags": []
          },
          "execution_count": 15
        }
      ]
    },
    {
      "cell_type": "code",
      "metadata": {
        "id": "jZfGJNzKqyZL"
      },
      "source": [
        "class Extract(torch.nn.Module):\n",
        "    \n",
        "    def __init__(self, W, bias, target):\n",
        "        super(Extract, self).__init__()\n",
        "\n",
        "        self.W = torch.from_numpy(W.astype(np.float)).unsqueeze(2)\n",
        "        #_W = torch.nn.parameter.Parameter(_W)\n",
        "        #self.register_parameter('W', _W)\n",
        "\n",
        "        _bias = torch.from_numpy(np.array(bias).astype(np.float)).reshape(1)\n",
        "        _bias = torch.nn.parameter.Parameter(_bias)\n",
        "        self.register_parameter('bias', _bias)\n",
        "\n",
        "        _target = torch.from_numpy(target.astype(np.float)).reshape((1,-1,1))\n",
        "        _target = torch.nn.parameter.Parameter(_target)\n",
        "        self.register_parameter('target', _target)\n",
        "\n",
        "        self.relu = torch.nn.ReLU()\n",
        "\n",
        "    def forward(self, x):\n",
        "        x = F.conv1d(x, self.W)\n",
        "        y = F.conv1d(self.target, self.W)\n",
        "        x = F.conv1d(x, y, self.bias)\n",
        "        x = self.relu(x)\n",
        "        return x"
      ],
      "execution_count": null,
      "outputs": []
    },
    {
      "cell_type": "code",
      "metadata": {
        "colab": {
          "base_uri": "https://localhost:8080/"
        },
        "id": "rE_sP4DRygJN",
        "outputId": "cd1c2bb5-161b-4ba2-c3a1-0e442f01ad82"
      },
      "source": [
        "clear_pixels = centered_pixels[np.logical_not(dirty.flatten())]\n",
        "signal_pixels = centered_pixels[active.flatten()]\n",
        "clear_to_signal_ratio = len(clear_pixels) // len(signal_pixels)\n",
        "clear_to_signal_ratio"
      ],
      "execution_count": null,
      "outputs": [
        {
          "output_type": "execute_result",
          "data": {
            "text/plain": [
              "578"
            ]
          },
          "metadata": {
            "tags": []
          },
          "execution_count": 20
        }
      ]
    },
    {
      "cell_type": "code",
      "metadata": {
        "id": "MK8xQZ0JyrwM"
      },
      "source": [
        "ps = torch.from_numpy(np.vstack([clear_pixels] + [signal_pixels] * clear_to_signal_ratio).astype(np.float)).unsqueeze(2).to(device)\n",
        "#v = torch.from_numpy(np.vstack([signal_pixels] * clear_to_signal_ratio)).unsqueeze(2).to(device)\n",
        "\n",
        "ls = torch.from_numpy(np.concatenate([np.zeros((clear_pixels.shape[0], 1)), np.ones((v.shape[0], 1))], 0)).unsqueeze(2).to(device)"
      ],
      "execution_count": null,
      "outputs": []
    },
    {
      "cell_type": "code",
      "metadata": {
        "colab": {
          "base_uri": "https://localhost:8080/"
        },
        "id": "myTyQpDvWLkm",
        "outputId": "5d3c0d2b-7007-4f3e-a8d1-215401541f0e"
      },
      "source": [
        "ps.shape, ls.shape"
      ],
      "execution_count": null,
      "outputs": [
        {
          "output_type": "execute_result",
          "data": {
            "text/plain": [
              "(torch.Size([13875, 154, 1]), torch.Size([13875, 1, 1]))"
            ]
          },
          "metadata": {
            "tags": []
          },
          "execution_count": 38
        }
      ]
    },
    {
      "cell_type": "code",
      "metadata": {
        "id": "yIs4U9eKrta8"
      },
      "source": [
        "model = Extract(W, 0, signal_pixels[0]).to(device)"
      ],
      "execution_count": null,
      "outputs": []
    },
    {
      "cell_type": "code",
      "metadata": {
        "id": "fbzQ1xM4rx4w"
      },
      "source": [
        "for parameter in model.parameters():\n",
        "    parameter.requires_grad = True\n",
        "\n",
        "obj = torch.nn.BCEWithLogitsLoss().to(device)\n",
        "opt = torch.optim.SGD(model.parameters(), lr=1e-4, momentum=0.9)"
      ],
      "execution_count": null,
      "outputs": []
    },
    {
      "cell_type": "code",
      "metadata": {
        "colab": {
          "base_uri": "https://localhost:8080/",
          "height": 68,
          "referenced_widgets": [
            "0079bb97fce04be8a8af6a768a9e3dd6",
            "e1091e15bdc5470b9786a4990972361f",
            "1aefc905708441c8bfeacc722b691a80",
            "c964c4fe2aac465bacde3576da00a2a0",
            "cd5b675527ae44c194fdc3025bd34e55",
            "03cbc1c1fc0c4fcf968ebcc57b2edd73",
            "b05f58c9e17b4316978742e42320aab3",
            "12ebeef3be7d4f92acb4477af8b096e0"
          ]
        },
        "id": "qrOfHBPfr_Mf",
        "outputId": "63e77a46-8605-4422-c665-7869ea2d2ec5"
      },
      "source": [
        "for i in tqdm(range(0,500)):\n",
        "    opt.zero_grad()\n",
        "    pred = model(ps)\n",
        "    loss = obj(pred, ls)\n",
        "    loss.backward()\n",
        "    opt.step()"
      ],
      "execution_count": null,
      "outputs": [
        {
          "output_type": "display_data",
          "data": {
            "application/vnd.jupyter.widget-view+json": {
              "model_id": "0079bb97fce04be8a8af6a768a9e3dd6",
              "version_minor": 0,
              "version_major": 2
            },
            "text/plain": [
              "HBox(children=(FloatProgress(value=0.0, max=500.0), HTML(value='')))"
            ]
          },
          "metadata": {
            "tags": []
          }
        },
        {
          "output_type": "stream",
          "text": [
            "\n"
          ],
          "name": "stdout"
        }
      ]
    },
    {
      "cell_type": "code",
      "metadata": {
        "id": "HCPLsfjssdIo"
      },
      "source": [
        "inferred_target = model.target.cpu().detach().numpy()[0,:,0]\n",
        "bias = model.bias.cpu().item()"
      ],
      "execution_count": null,
      "outputs": []
    },
    {
      "cell_type": "code",
      "metadata": {
        "colab": {
          "base_uri": "https://localhost:8080/"
        },
        "id": "fJKDej9Aehz7",
        "outputId": "bd515f89-5b1e-4951-c615-5393c61192b9"
      },
      "source": [
        "bias"
      ],
      "execution_count": null,
      "outputs": [
        {
          "output_type": "execute_result",
          "data": {
            "text/plain": [
              "-0.09793223340386742"
            ]
          },
          "metadata": {
            "tags": []
          },
          "execution_count": 62
        }
      ]
    },
    {
      "cell_type": "code",
      "metadata": {
        "colab": {
          "base_uri": "https://localhost:8080/",
          "height": 284
        },
        "id": "K8q31OLoecUw",
        "outputId": "2ff60586-7e56-4dd1-e225-c111c4d1d2f2"
      },
      "source": [
        "#for s in signal_pixels:\n",
        "#  plt.plot(s + mean)\n",
        "plt.plot(inferred_target + mean, \"k\")\n",
        "plt.plot(samples[100])"
      ],
      "execution_count": null,
      "outputs": [
        {
          "output_type": "execute_result",
          "data": {
            "text/plain": [
              "[<matplotlib.lines.Line2D at 0x7fc0cde07950>]"
            ]
          },
          "metadata": {
            "tags": []
          },
          "execution_count": 72
        },
        {
          "output_type": "display_data",
          "data": {
            "image/png": "[encoded data removed]",
            "text/plain": [
              "<Figure size 432x288 with 1 Axes>"
            ]
          },
          "metadata": {
            "tags": [],
            "needs_background": "light"
          }
        }
      ]
    },
    {
      "cell_type": "code",
      "metadata": {
        "id": "MZb7SIUwiES9"
      },
      "source": [
        "np.savez('/root/data/MyDrive/Hyperspectral/tpa_spectrum.npz', target=inferred_target + mean)"
      ],
      "execution_count": null,
      "outputs": []
    }
  ]
}