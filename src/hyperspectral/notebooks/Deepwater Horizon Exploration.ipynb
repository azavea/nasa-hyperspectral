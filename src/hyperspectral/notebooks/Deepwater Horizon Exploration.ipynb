{
 "cells": [
  {
   "cell_type": "code",
   "execution_count": null,
   "id": "f7948e2a",
   "metadata": {},
   "outputs": [],
   "source": [
    "import numpy as np\n",
    "import matplotlib.pyplot as plt\n",
    "import scipy.signal\n",
    "\n",
    "import copy\n",
    "\n",
    "import rasterio as rio\n",
    "import rasterio.windows\n",
    "\n",
    "from tqdm.notebook import tqdm"
   ]
  },
  {
   "cell_type": "code",
   "execution_count": null,
   "id": "15bfebdc",
   "metadata": {},
   "outputs": [],
   "source": [
    "spectrum = []\n",
    "with open('data2/spectra/1/splib07a_Oil_Water_Benzene17_DWH10-3_ASDHRa_AREF.txt', 'r') as f:\n",
    "    f.readline()\n",
    "    for line in f.readlines():\n",
    "        spectrum.append(float(line))\n",
    "spectrum = np.array(spectrum)\n",
    "spectrum = spectrum / np.linalg.norm(spectrum, ord=2)\n",
    "spectrum_normalized = scipy.signal.resample(spectrum, 224) - spectrum.mean()"
   ]
  },
  {
   "cell_type": "code",
   "execution_count": null,
   "id": "f6b3eb32",
   "metadata": {},
   "outputs": [],
   "source": [
    "plt.plot(spectrum_normalized)"
   ]
  },
  {
   "cell_type": "code",
   "execution_count": null,
   "id": "36071c3f",
   "metadata": {},
   "outputs": [],
   "source": [
    "def infer(in_filename, out_filename):\n",
    "    with rio.open(in_filename, 'r') as in_ds:\n",
    "        profile = copy.deepcopy(in_ds.profile)\n",
    "        profile.update(count=1, driver='GTiff', bigtiff='yes', compress='deflate', predictor='2', tiled='yes', dtype=np.float32)\n",
    "        with rio.open(out_filename, 'w', **profile) as out_ds:\n",
    "            for col in tqdm(range(0, in_ds.width, 512), position=0):\n",
    "                width = min(col+512, in_ds.width) - col\n",
    "                for row in tqdm(range(0, in_ds.height, 512), position=1, leave=False):\n",
    "                    height = min(row+512, in_ds.height) - row\n",
    "                    window = rasterio.windows.Window(col, row, width, height)\n",
    "                    data = np.transpose(in_ds.read(window=window).astype(np.float32), (1,2,0))\n",
    "                    norm = np.linalg.norm(data, ord=2, axis=2)[..., None].astype(np.float32)\n",
    "                    data /= norm\n",
    "                    data -= np.mean(data, axis=2)[...,None]\n",
    "                    data = np.dot(data, spectrum_normalized)\n",
    "                    data = data.reshape(1, width, height).astype(np.float32)\n",
    "                    out_ds.write(data, window=window)"
   ]
  },
  {
   "cell_type": "code",
   "execution_count": null,
   "id": "42b87655",
   "metadata": {},
   "outputs": [],
   "source": [
    "in_out = [\n",
    " ('data2/f100520t01p00r17rdn_b/f100520t01p00r17rdn_b_sc01_ort_img.tif', 'data/f100520t01p00r17rdn_b_sc01_ort_img_result.tif'),\n",
    " ('data2/f100824t01p00r25rdn_b/f100824t01p00r25rdn_b_sc01_ort_img.tif', 'data/f100824t01p00r25rdn_b_sc01_ort_img_result.tif'),\n",
    " ('data2/f100506t01p00r17rdn_b/f100506t01p00r17rdn_b_sc01_ort_img.tif', 'data/f100506t01p00r17rdn_b_sc01_ort_img_result.tif'),\n",
    " ('data2/f100517t01p00r11rdn_b/f100517t01p00r11rdn_b_sc01_ort_img.tif', 'data/f100517t01p00r11rdn_b_sc01_ort_img_result.tif'),\n",
    " ('data2/f100709t02p00r05rdn_b/f100709t02p00r05rdn_b_sc01_ort_img.tif', 'data/f100709t02p00r05rdn_b_sc01_ort_img_result.tif'),\n",
    " ('data2/f100520t01p00r11rdn_b/f100520t01p00r11rdn_b_sc01_ort_img.tif', 'data/f100520t01p00r11rdn_b_sc01_ort_img_result.tif'),\n",
    " ('data2/f100517t01p00r14rdn_b/f100517t01p00r14rdn_b_sc01_ort_img.tif', 'data/f100517t01p00r14rdn_b_sc01_ort_img_result.tif'),\n",
    " ('data2/f100506t01p00r18rdn_b/f100506t01p00r18rdn_b_sc01_ort_img.tif', 'data/f100506t01p00r18rdn_b_sc01_ort_img_result.tif'),\n",
    " ('data2/f100824t01p00r24rdn_b/f100824t01p00r24rdn_b_sc01_ort_img.tif', 'data/f100824t01p00r24rdn_b_sc01_ort_img_result.tif'),\n",
    " ('data2/f100524t01p00r11rdn_b/f100524t01p00r11rdn_b_sc01_ort_img.tif', 'data/f100524t01p00r11rdn_b_sc01_ort_img_result.tif'),\n",
    " ('data2/f100709t02p00r06rdn_b/f100709t02p00r06rdn_b_sc01_ort_img.tif', 'data/f100709t02p00r06rdn_b_sc01_ort_img_result.tif'),\n",
    " ('data2/f100709t01p00r07rdn_b/f100709t01p00r07rdn_b_sc01_ort_img.tif', 'data/f100709t01p00r07rdn_b_sc01_ort_img_result.tif'),\n",
    " ('data2/f100506t01p00r16rdn_b/f100506t01p00r16rdn_b_sc01_ort_img.tif', 'data/f100506t01p00r16rdn_b_sc01_ort_img_result.tif'),\n",
    " ('data2/f100518t01p00r11rdn_b/f100518t01p00r11rdn_b_sc01_ort_img.tif', 'data/f100518t01p00r11rdn_b_sc01_ort_img_result.tif'),\n",
    " ('data2/f100513t01p00r15rdn_b/f100513t01p00r15rdn_b_sc01_ort_img.tif', 'data/f100513t01p00r15rdn_b_sc01_ort_img_result.tif'),\n",
    " ('data2/f100709t01p00r05rdn_b/f100709t01p00r05rdn_b_sc01_ort_img.tif', 'data/f100709t01p00r05rdn_b_sc01_ort_img_result.tif'),\n",
    " ('data2/f100831t01p00r05rdn_b/f100831t01p00r05rdn_b_sc01_ort_img.tif', 'data/f100831t01p00r05rdn_b_sc01_ort_img_result.tif'),\n",
    " ('data2/f100510t01p00r16rdn_b/f100510t01p00r16rdn_b_sc01_ort_img.tif', 'data/f100510t01p00r16rdn_b_sc01_ort_img_result.tif')\n",
    "]"
   ]
  },
  {
   "cell_type": "code",
   "execution_count": null,
   "id": "40ab5048",
   "metadata": {},
   "outputs": [],
   "source": [
    "for (in_filename, out_filename) in in_out:\n",
    "    infer(in_filename, out_filename)"
   ]
  },
  {
   "cell_type": "code",
   "execution_count": null,
   "id": "520a7ef0",
   "metadata": {},
   "outputs": [],
   "source": []
  }
 ],
 "metadata": {
  "kernelspec": {
   "display_name": "Python 3",
   "language": "python",
   "name": "python3"
  },
  "language_info": {
   "codemirror_mode": {
    "name": "ipython",
    "version": 3
   },
   "file_extension": ".py",
   "mimetype": "text/x-python",
   "name": "python",
   "nbconvert_exporter": "python",
   "pygments_lexer": "ipython3",
   "version": "3.6.10"
  }
 },
 "nbformat": 4,
 "nbformat_minor": 5
}
